{
 "cells": [
  {
   "cell_type": "code",
   "execution_count": null,
   "id": "ade5fd17-8699-4dc5-a1f1-d89363c0b3e9",
   "metadata": {},
   "outputs": [],
   "source": [
    "Lyheang Heng\n",
    "\n",
    "6712732101"
   ]
  }
 ],
 "metadata": {
  "kernelspec": {
   "display_name": "Python 3 (ipykernel)",
   "language": "python",
   "name": "python3"
  },
  "language_info": {
   "codemirror_mode": {
    "name": "ipython",
    "version": 3
   },
   "file_extension": ".py",
   "mimetype": "text/x-python",
   "name": "python",
   "nbconvert_exporter": "python",
   "pygments_lexer": "ipython3",
   "version": "3.12.5"
  }
 },
 "nbformat": 4,
 "nbformat_minor": 5
}
