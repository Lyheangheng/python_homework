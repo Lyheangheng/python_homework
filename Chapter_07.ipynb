{
 "cells": [
  {
   "cell_type": "markdown",
   "metadata": {},
   "source": [
    "# แบบฝึกหัด บทที่ 7 โครงสร้างควบคุม"
   ]
  },
  {
   "cell_type": "code",
   "execution_count": null,
   "metadata": {},
   "outputs": [],
   "source": [
    "\"\"\"\n",
    "ชื่อ - สกุล - รหัส\n",
    "\n",
    "\n",
    "\"\"\"\n",
    "Lyheang Heng (6712732101)"
   ]
  },
  {
   "cell_type": "markdown",
   "metadata": {},
   "source": [
    "## 1.\tจงเขียนโปรแกรมเพื่อให้ได้ผลลัพธ์ดังต่อไปนี้\n",
    "\n",
    "เพื่อให้ผู้ใช้ป้อนเลขจำนวนเต็ม 3 ค่า ประกอบไปด้วย : (f)rom, (t)o และ (i)ncrement \n",
    "\n",
    "โดยโปรแกรมรับค่าทั้ง 3 เข้ามาเพื่อทำการคำนวณเพื่อสร้างเลขลำดับโดยเริ่มต้นจาก f ไปจนถึง t \n",
    "\n",
    "และจะเพิ่มจำนวนตามค่า i เช่นถ้า input เป็น f == 2, t == 26 และ i == 4 โปรแกรมจะแสดงผล: 2, 6, 10, 14, 18, 22, 26"
   ]
  },
  {
   "cell_type": "code",
   "execution_count": 5,
   "metadata": {},
   "outputs": [
    {
     "name": "stdin",
     "output_type": "stream",
     "text": [
      "1st number: 2\n",
      "2nd number: 10\n",
      "3rd number: 2\n"
     ]
    },
    {
     "name": "stdout",
     "output_type": "stream",
     "text": [
      "[2, 4, 6, 8, 10]\n"
     ]
    }
   ],
   "source": [
    "\"\"\"\n",
    "คำตอบ\n",
    "\"\"\"\n",
    "in1 = int(input(\"1st number:\"))\n",
    "in2 = int(input(\"2nd number:\"))\n",
    "in3 = int(input(\"3rd number:\"))\n",
    "\n",
    "lt = list(range(in1, in2+1,in3))\n",
    "print(lt)"
   ]
  },
  {
   "cell_type": "markdown",
   "metadata": {},
   "source": [
    "## 2.จงเขียนโปรแกรมเพื่อให้ได้ผลลัพธ์ดังต่อไปนี้\n",
    "\n",
    "จงเขียนโปรแกรมเพื่อหาจำนวนแฟกทอเรียล (Factorial) โดยใช้การวนซ้ำ \n",
    "\n",
    "โดยกำหนดให้ผู้ใช้ป้อนค่าจำนวนเต็ม 1 ตัวและนำค่านั้นมาหาค่าแฟกทอเรียล เช่น input = 5 \n",
    "\n",
    "โปรแกรมจะทำการคำนวณ 5 * 4 * 3 * 2 * 1 เท่ากับ 12"
   ]
  },
  {
   "cell_type": "code",
   "execution_count": 15,
   "metadata": {},
   "outputs": [
    {
     "name": "stdin",
     "output_type": "stream",
     "text": [
      "num : 5\n"
     ]
    },
    {
     "name": "stdout",
     "output_type": "stream",
     "text": [
      "result 120\n"
     ]
    }
   ],
   "source": [
    " \"\"\"\n",
    "คำตอบ\n",
    "\"\"\"\n",
    "num = int(input(\"num :\"))\n",
    "mul = 1\n",
    "for val in range(num,0,-1):\n",
    "    mul *= val \n",
    "print(\"result {}\".format(mul))"
   ]
  },
  {
   "cell_type": "markdown",
   "metadata": {},
   "source": [
    "## 3.จงเขียนโปรแกรมเพื่อให้ได้ผลลัพธ์ดังต่อไปนี้\n",
    "\n",
    "ทำเขียนโปรแกรมโดยใช้การทำงานวนซ้ำ เพื่อค้นหาจำนวนเฉพาะที่อยู่ในช่วงตัวเลข 1 จนถึง 100 \n",
    "\n",
    "และทำการแสดงผลจำนวนเฉพาะทั้งหมดที่ค้นพบในช่วงตัวเลขออกมาทางหน้าจอ"
   ]
  },
  {
   "cell_type": "code",
   "execution_count": null,
   "metadata": {},
   "outputs": [],
   "source": [
    "\"\"\"\n",
    "คำตอบ\n",
    "1. สร้างชุดตัวเลขในช่วง 1 - 100\n",
    "2. กำหนดตัวแปร flag ให้มีค่าเป็นจริง เพื่อใช้ตรวจสอบว่าค่า i เป็นจำนวนเฉพาะหรือไม่\n",
    "3. สร้างชุดตัวเลข j ที่อยู่ในช่วง 2 - i\n",
    "4. นำ i มา mod ด้วย j\n",
    "    - ถ้า i mod j ได้ลงตัว แสดงว่า i ไม่ใช่จำนวนเฉพาะ\n",
    "    - กำหนดให้ flag มีค่าเป็น เท็จ\n",
    "5. ทำการตรวจสอบ flag ถ้า flag ยังเป็นจริงอยู่แสดงว่า i เป็นจำนวนเฉพาะ\n",
    "\"\"\"\n"
   ]
  },
  {
   "cell_type": "markdown",
   "metadata": {},
   "source": [
    "## 4.\tจงเขียนโปรแกรมเพื่อให้ได้ผลลัพธ์ดังต่อไปนี้ "
   ]
  },
  {
   "cell_type": "code",
   "execution_count": null,
   "metadata": {},
   "outputs": [],
   "source": [
    "\"\"\"\n",
    "* \n",
    "* * \n",
    "* * * \n",
    "* * * * \n",
    "* * * * * \n",
    "* * * * \n",
    "* * * \n",
    "* * \n",
    "*\n",
    "\"\"\"\n",
    "\n"
   ]
  },
  {
   "cell_type": "markdown",
   "metadata": {},
   "source": []
  },
  {
   "cell_type": "markdown",
   "metadata": {},
   "source": [
    "## 5. จงเขียนโปรแกรมเพื่อให้ได้ผลลัพธ์ดังต่อไปนี้ \n",
    "\n",
    "จงเขียนโปรแกรมที่พิมพ์ตัวเลขตั้งแต่ 1 ถึง 100 ยกเว้นตัวเลขที่หารด้วย 3 ลงตัว \n",
    "\n",
    "โดยให้ใช้คำสั่ง continue เช่น 1 2 4 5 7 8 10 11 … เป็นต้น"
   ]
  },
  {
   "cell_type": "code",
   "execution_count": 39,
   "metadata": {},
   "outputs": [
    {
     "name": "stdout",
     "output_type": "stream",
     "text": [
      "3 6 9 12 15 18 21 24 27 30 33 36 39 42 45 48 51 54 57 60 63 66 69 72 75 78 81 84 87 90 93 96 99 "
     ]
    }
   ],
   "source": [
    "for num in range(1,101):\n",
    "    if num % 3 == 0:\n",
    "        print(num , end=\" \")"
   ]
  },
  {
   "cell_type": "markdown",
   "metadata": {},
   "source": [
    "## 6.จงเขียนโปรแกรมเพื่อให้ได้ผลลัพธ์ดังต่อไปนี้\n",
    "\n",
    "จงเขียนโปรแกรมที่แสดงเลขจำนวน 1 ถึง 50 โดยสำหรับเลขจำนวนใดที่หารด้วย 3 ลงตัวให้พิมพ์ Fizz \n",
    "\n",
    "และเลขจำนวนใดที่หารด้วย 5 ลงตัวให้พิมพ์ Buzz และเลขใดที่หารลงตัวทั้ง 3 และ 5 ให้พิมพ์ FizzBuzz "
   ]
  },
  {
   "cell_type": "code",
   "execution_count": 43,
   "metadata": {},
   "outputs": [
    {
     "name": "stdout",
     "output_type": "stream",
     "text": [
      "3 Fizz\n",
      "5 Buzz\n",
      "6 Fizz\n",
      "9 Fizz\n",
      "10 Buzz\n",
      "12 Fizz\n",
      "15 FIzzBuzz\n",
      "18 Fizz\n",
      "20 Buzz\n",
      "21 Fizz\n",
      "24 Fizz\n",
      "25 Buzz\n",
      "27 Fizz\n",
      "30 FIzzBuzz\n",
      "33 Fizz\n",
      "35 Buzz\n",
      "36 Fizz\n",
      "39 Fizz\n",
      "40 Buzz\n",
      "42 Fizz\n",
      "45 FIzzBuzz\n",
      "48 Fizz\n",
      "50 Buzz\n"
     ]
    }
   ],
   "source": [
    "for num in range(1,51):\n",
    "    if num%3 ==0 and num%5 == 0:\n",
    "        print(num ,\"FIzzBuzz\")\n",
    "    elif num%3 == 0:\n",
    "        print(num,\"Fizz\")\n",
    "    elif num%5 == 0:\n",
    "        print(num,\"Buzz\")"
   ]
  },
  {
   "cell_type": "markdown",
   "metadata": {},
   "source": [
    "## 7.จงเขียนโปรแกรมเพื่อให้ได้ผลลัพธ์ดังต่อไปนี้\n",
    "\n",
    "จงเขียนโปรแกรมเพื่อแสดงรูปแบบต่อไปนี้ โดยการรับค่าจำนวนสูงสุดจากผู้ใช้"
   ]
  },
  {
   "cell_type": "code",
   "execution_count": 50,
   "metadata": {},
   "outputs": [
    {
     "name": "stdin",
     "output_type": "stream",
     "text": [
      "number: 8\n"
     ]
    },
    {
     "name": "stdout",
     "output_type": "stream",
     "text": [
      "1\n",
      "22\n",
      "333\n",
      "4444\n",
      "55555\n",
      "666666\n",
      "7777777\n",
      "88888888\n"
     ]
    }
   ],
   "source": [
    "\"\"\"\n",
    "ป้อนเลข 9\n",
    "\n",
    "1\n",
    "22\n",
    "333\n",
    "4444\n",
    "55555\n",
    "666666\n",
    "7777777\n",
    "88888888\n",
    "999999999\n",
    "\n",
    "คำตอบ\n",
    "\"\"\"\n",
    "num = int(input(\"number:\"))\n",
    "for val in range(1,num+1):\n",
    "    print(str(val)*val)"
   ]
  },
  {
   "cell_type": "code",
   "execution_count": null,
   "metadata": {},
   "outputs": [],
   "source": []
  }
 ],
 "metadata": {
  "interpreter": {
   "hash": "40d3a090f54c6569ab1632332b64b2c03c39dcf918b08424e98f38b5ae0af88f"
  },
  "kernelspec": {
   "display_name": "Python 3 (ipykernel)",
   "language": "python",
   "name": "python3"
  },
  "language_info": {
   "codemirror_mode": {
    "name": "ipython",
    "version": 3
   },
   "file_extension": ".py",
   "mimetype": "text/x-python",
   "name": "python",
   "nbconvert_exporter": "python",
   "pygments_lexer": "ipython3",
   "version": "3.12.5"
  }
 },
 "nbformat": 4,
 "nbformat_minor": 4
}
