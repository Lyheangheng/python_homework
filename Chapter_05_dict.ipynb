{
 "cells": [
  {
   "cell_type": "markdown",
   "id": "b444a2b1-1b6d-4176-8d1f-530254acfdc5",
   "metadata": {},
   "source": [
    "# แบบฝึกหัด บทที่ 5 ตัวแปรและประเภทข้อมูล (Dictionary)"
   ]
  },
  {
   "cell_type": "raw",
   "id": "fe5ae0b4-ef63-4826-accf-7927f7336ce9",
   "metadata": {},
   "source": [
    "Lyheang Heng 6712732101"
   ]
  },
  {
   "cell_type": "markdown",
   "id": "ee56ed63-0dad-4888-abb3-dac078c0177c",
   "metadata": {},
   "source": [
    "## 1.\tจงแปลงข้อมูลต่อไปนี้ให้เป็น Dictionary"
   ]
  },
  {
   "cell_type": "code",
   "execution_count": 3,
   "id": "94428f7b-4992-4b2f-9ee0-065385e26a1c",
   "metadata": {},
   "outputs": [
    {
     "data": {
      "text/plain": [
       "' \\n6611127320001 นาย ศักรินทร์ หาญทอง โรงเรียนวัดหลวงวิทยา\\n6611127320002 นาย ทวีพรโชค ดาวจันทร โรงเรียนนาเเก้ววิทยา\\n6611127320003 นาย ฐิราชัย พลหาญ โรงเรียนโขงเจียมวิทยาคม\\n6611127320004 นาย ชานนท์ รูปคุ้ม โรงเรียนบ้านกันทรารมย์\\n'"
      ]
     },
     "execution_count": 3,
     "metadata": {},
     "output_type": "execute_result"
    }
   ],
   "source": [
    "\"\"\" \n",
    "6611127320001 นาย ศักรินทร์ หาญทอง โรงเรียนวัดหลวงวิทยา\n",
    "6611127320002 นาย ทวีพรโชค ดาวจันทร โรงเรียนนาเเก้ววิทยา\n",
    "6611127320003 นาย ฐิราชัย พลหาญ โรงเรียนโขงเจียมวิทยาคม\n",
    "6611127320004 นาย ชานนท์ รูปคุ้ม โรงเรียนบ้านกันทรารมย์\n",
    "\"\"\""
   ]
  },
  {
   "cell_type": "code",
   "execution_count": 17,
   "id": "e1e84ee5-5a94-4245-bbeb-72aa64fd1413",
   "metadata": {},
   "outputs": [
    {
     "data": {
      "text/plain": [
       "('6611127320001', 'ทวีพรโชค', None, 'รูปคุ้ม')"
      ]
     },
     "execution_count": 17,
     "metadata": {},
     "output_type": "execute_result"
    }
   ],
   "source": [
    "# คำตอบ\n",
    "stu1 = {\"id\":\"6611127320001\",\n",
    "        \"sex\":\"male\",\n",
    "       \"name\":\"ศักรินทร์\",\n",
    "       \"lname\":\"หาญทอง\",\n",
    "       \"address\":\"โรงเรียนวัดหลวงวิทยา\"\n",
    "       }\n",
    "stu2 = {\"id\":\"6611127320002\",\n",
    "       \"name\":\"ทวีพรโชค\",\n",
    "       \"lname\":\"ดาวจันทร\",\n",
    "       \"address\":\"โรงเรียนนาเเก้ววิทยา\",\n",
    "         \"sex\":\"male\"\n",
    "       }\n",
    "stu3 = {\"id\":\"6611127320003\",\n",
    "       \"name\":\"ฐิราชัย\",\n",
    "       \"lname\":\"พลหาญ\",\n",
    "       \"address\":\"โรงเรียนโขงเจียมวิทยาคม\",\n",
    "         \"sex\":\"male\"\n",
    "       }\n",
    "stu4 = {\"id\":\"6611127320004\",\n",
    "       \"name\":\"ชานนท์\",\n",
    "       \"lname\":\"รูปคุ้ม\",\n",
    "       \"address\":\"โรงเรียนบ้านกันทรารมย์\",\n",
    "         \"sex\":\"male\"\n",
    "       }\n",
    "stu1.get(\"id\"),stu2.get(\"name\"),stu3.get(\"adress\"),stu4.get(\"lname\")"
   ]
  },
  {
   "cell_type": "markdown",
   "id": "84f776e2-52c8-471d-867f-4215479ec8ff",
   "metadata": {},
   "source": [
    "## 2.จงแสดงวิธีการเข้าถึงเข้ามูลรายบุคคล"
   ]
  },
  {
   "cell_type": "code",
   "execution_count": null,
   "id": "cbc8398d-c456-4868-972a-9977a7fd5d8a",
   "metadata": {},
   "outputs": [],
   "source": []
  }
 ],
 "metadata": {
  "kernelspec": {
   "display_name": "Python 3 (ipykernel)",
   "language": "python",
   "name": "python3"
  },
  "language_info": {
   "codemirror_mode": {
    "name": "ipython",
    "version": 3
   },
   "file_extension": ".py",
   "mimetype": "text/x-python",
   "name": "python",
   "nbconvert_exporter": "python",
   "pygments_lexer": "ipython3",
   "version": "3.12.5"
  }
 },
 "nbformat": 4,
 "nbformat_minor": 5
}
